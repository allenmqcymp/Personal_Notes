{
 "cells": [
  {
   "cell_type": "markdown",
   "metadata": {},
   "source": [
    "## What is a Vector Space?\n",
    "\n",
    "### Intuition\n",
    "\n",
    "- Vectors, as we all know, are things that have magnitude and direction\n",
    "- Turns out, there are many things that behave in similar fashion to vectors\n",
    "    - a function $F(R) \\rightarrow R$\n",
    "    - vectors \n",
    "    - a matrix of numbers\n",
    "\n",
    "- In fact, we define a vector space in the most general way possible\n",
    "\n",
    "### Definition\n",
    "\n",
    "A real vector space is a set $V$ together with\n",
    "\n",
    "1. An operation called vector addition for which each pair of vectors $x, y \\in V$ produces another vector $x + y$\n",
    "\n",
    "2. An operation called multiplication by a scalar, $c$, which for each vector $x \\in V$ and each scalar $c \\in R$, produces another vector in $v$ denoted $cx$\n",
    "\n",
    "The following **axioms** must also be satisfied:\n",
    "\n",
    "1. Associativity\n",
    "    - $x, y, z \\in V$, $(x + y) + z = x + (y + z)$\n",
    "2. Commutativity\n",
    "   - $x + y = y + x$     \n",
    "3. There exists a zero vector\n",
    "    - $x + 0 = x$ for every $x \\in V$    \n",
    "4. Inverse vector\n",
    "    - $x + -x = 0$        \n",
    "5. Distributive Property\n",
    "    - $c(x + y) = cx + cy$    \n",
    "6. Distributive Property among scalars\n",
    "    - $(c + d)x = cx + dx$\n",
    "7. Associativity with constants\n",
    "    - $(cd)x = c(dx)$\n",
    "8. Identity operation\n",
    "    - $1x = x$\n",
    "    \n",
    "### Misc\n",
    "    \n",
    "    \n",
    "Why do you need the identity operation?\n",
    "\n",
    "- We could define the $+$ operator to always be $x + y = 0$ \n",
    "- And $cx = 0$ for the multiplication by a scalar operator without axiom 8\n",
    "- This makes all 7 axioms hold, but makes the axioms trivial\n",
    "- Adding the identity operator ensures that we can do useful operations with them\n",
    "\n",
    "Can there be more than one way of defining a vector sum?\n",
    "\n",
    "- Suppose $(x_1, y_1) +' (x_2, y_2) = (x_1x_2, y_1y_2)$\n",
    "- And $c(x_1, x_2) = cx_1 + cx_2$\n",
    "\n",
    "Would these operations give us another vector space?\n",
    "\n",
    "Checking axioms 1-3 hold. But in axiom 4, for the vector $(0, 0)$\n",
    "\n",
    "We seek $(0, 0) +' -x = (0, 0)$\n",
    "\n",
    "However, there is no inverse vector for (0, 0) **clarify**\n",
    "\n",
    "   "
   ]
  },
  {
   "cell_type": "code",
   "execution_count": null,
   "metadata": {},
   "outputs": [],
   "source": []
  },
  {
   "cell_type": "code",
   "execution_count": null,
   "metadata": {},
   "outputs": [],
   "source": []
  }
 ],
 "metadata": {
  "kernelspec": {
   "display_name": "Python 3",
   "language": "python",
   "name": "python3"
  },
  "language_info": {
   "codemirror_mode": {
    "name": "ipython",
    "version": 3
   },
   "file_extension": ".py",
   "mimetype": "text/x-python",
   "name": "python",
   "nbconvert_exporter": "python",
   "pygments_lexer": "ipython3",
   "version": "3.6.3"
  }
 },
 "nbformat": 4,
 "nbformat_minor": 2
}
